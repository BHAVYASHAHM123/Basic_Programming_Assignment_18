{
  "nbformat": 4,
  "nbformat_minor": 0,
  "metadata": {
    "colab": {
      "name": "Basic_Programming_Assignment_18.ipynb",
      "provenance": []
    },
    "kernelspec": {
      "name": "python3",
      "display_name": "Python 3"
    },
    "language_info": {
      "name": "python"
    }
  },
  "cells": [
    {
      "cell_type": "markdown",
      "source": [
        "Q1). Create a function that takes a list of non-negative integers and strings and return a new list without the strings.\n",
        "\n",
        "Examples\n",
        "filter_list([1, 2, &quot;a&quot;, &quot;b&quot;]) ➞ [1, 2]\n",
        "filter_list([1, &quot;a&quot;, &quot;b&quot;, 0, 15]) ➞ [1, 0, 15]\n",
        "filter_list([1, 2, &quot;aasf&quot;, &quot;1&quot;, &quot;123&quot;, 123]) ➞ [1, 2, 123]"
      ],
      "metadata": {
        "id": "NC_nLN6xBx6Q"
      }
    },
    {
      "cell_type": "code",
      "execution_count": 6,
      "metadata": {
        "colab": {
          "base_uri": "https://localhost:8080/"
        },
        "id": "ro8aniFfBxJF",
        "outputId": "fe3b2217-7ebc-4ca0-e3a3-19ec25a8bce9"
      },
      "outputs": [
        {
          "output_type": "stream",
          "name": "stdout",
          "text": [
            "[1, 2]\n"
          ]
        }
      ],
      "source": [
        "# Eg 1\n",
        "l = [1, 2, 'a', 'b']\n",
        "\n",
        "def filter_list(l):\n",
        "    new_list = []\n",
        "    for x in l:\n",
        "        if type(x) == int:\n",
        "            new_list.append(x)\n",
        "    return new_list\n",
        "\n",
        "print(filter_list(l))"
      ]
    },
    {
      "cell_type": "code",
      "source": [
        "# Eg 2\n",
        "\n",
        "\n",
        "l = [1, 'a', 'b', 0 , 15]\n",
        "\n",
        "def filter_list(l):\n",
        "    new_list = []\n",
        "    for x in l:\n",
        "        if type(x) == int:\n",
        "            new_list.append(x)\n",
        "    return new_list\n",
        "\n",
        "print(filter_list(l))"
      ],
      "metadata": {
        "colab": {
          "base_uri": "https://localhost:8080/"
        },
        "id": "6UkYW5cdCAY4",
        "outputId": "c671fae7-563c-481a-f5ef-39739b70b3e8"
      },
      "execution_count": 7,
      "outputs": [
        {
          "output_type": "stream",
          "name": "stdout",
          "text": [
            "[1, 0, 15]\n"
          ]
        }
      ]
    },
    {
      "cell_type": "code",
      "source": [
        "# Eg 3\n",
        "l = [1, 2, 'aasf', '1', '123', 123]\n",
        "\n",
        "def filter_list(l):\n",
        "    new_list = []\n",
        "    for x in l:\n",
        "        if type(x) == int:\n",
        "            new_list.append(x)\n",
        "    return new_list\n",
        "\n",
        "print(filter_list(l))"
      ],
      "metadata": {
        "colab": {
          "base_uri": "https://localhost:8080/"
        },
        "id": "G9QgA6xsDL2l",
        "outputId": "c68e82cf-8c66-44cb-8b52-8855a363d5f8"
      },
      "execution_count": 8,
      "outputs": [
        {
          "output_type": "stream",
          "name": "stdout",
          "text": [
            "[1, 2, 123]\n"
          ]
        }
      ]
    },
    {
      "cell_type": "markdown",
      "source": [
        "Q2). The \"Reverser\" takes a string as input and returns that string in reverse order, with the opposite case.\n",
        "\n",
        "Examples\n",
        "reverse(&quot;Hello World&quot;) ➞ &quot;DLROw OLLEh&quot;\n",
        "reverse(&quot;ReVeRsE&quot;) ➞ &quot;eSrEvEr&quot;\n",
        "reverse(&quot;Radar&quot;) ➞ &quot;RADAr&quot;"
      ],
      "metadata": {
        "id": "cKxT0lwRDZhm"
      }
    },
    {
      "cell_type": "code",
      "source": [
        "#Eg 1\n",
        "string = 'Hello World'\n",
        "print(string[::-1])"
      ],
      "metadata": {
        "colab": {
          "base_uri": "https://localhost:8080/"
        },
        "id": "q7EQfo9-DXnJ",
        "outputId": "408cc704-042e-45ac-cff7-bf309d9e1c61"
      },
      "execution_count": 9,
      "outputs": [
        {
          "output_type": "stream",
          "name": "stdout",
          "text": [
            "dlroW olleH\n"
          ]
        }
      ]
    },
    {
      "cell_type": "code",
      "source": [
        "# Eg 2\n",
        "\n",
        "string = 'ReVeRsE'\n",
        "print(string[::-1])"
      ],
      "metadata": {
        "colab": {
          "base_uri": "https://localhost:8080/"
        },
        "id": "C14hBkQTD0YQ",
        "outputId": "cb515ba6-8c0e-43f4-b89d-b1d4967600f9"
      },
      "execution_count": 15,
      "outputs": [
        {
          "output_type": "stream",
          "name": "stdout",
          "text": [
            "EsReVeR\n"
          ]
        }
      ]
    },
    {
      "cell_type": "code",
      "source": [
        "# Eg 3\n",
        "string = 'Radar'\n",
        "print(string[::-1])"
      ],
      "metadata": {
        "colab": {
          "base_uri": "https://localhost:8080/"
        },
        "id": "nuJ2ysn4D-Du",
        "outputId": "c3f7ce80-912e-4e68-b0b9-373b02ab6acc"
      },
      "execution_count": 16,
      "outputs": [
        {
          "output_type": "stream",
          "name": "stdout",
          "text": [
            "radaR\n"
          ]
        }
      ]
    },
    {
      "cell_type": "markdown",
      "source": [
        "Q4)Write a function that calculates the factorial of a number recursively.\n",
        "Examples\n",
        "factorial(5) ➞ 120\n",
        "factorial(3) ➞ 6\n",
        "factorial(1) ➞ 1\n",
        "factorial(0) ➞ 1"
      ],
      "metadata": {
        "id": "W29DSIFlFRXJ"
      }
    },
    {
      "cell_type": "code",
      "source": [
        "# Factorial of 5 -> 120\n",
        "\n",
        "a = 5\n",
        "\n",
        "factorial = 1\n",
        "\n",
        "if a < 0:\n",
        "   print(\"Sorry, factorial does not exist for negative numbers\")\n",
        "elif a == 0:\n",
        "   print(\"The factorial of 0 is 1\")\n",
        "else:\n",
        "   for i in range(1,a + 1):\n",
        "       factorial = factorial*i\n",
        "   print(\"The factorial of\",a,\"is\",factorial)"
      ],
      "metadata": {
        "colab": {
          "base_uri": "https://localhost:8080/"
        },
        "id": "IdqpUsezERD-",
        "outputId": "b4bbc54f-3f1b-4fae-8809-c01973870771"
      },
      "execution_count": 18,
      "outputs": [
        {
          "output_type": "stream",
          "name": "stdout",
          "text": [
            "The factorial of 5 is 120\n"
          ]
        }
      ]
    },
    {
      "cell_type": "code",
      "source": [
        "# Factorial of 3 -> 6\n",
        "\n",
        "a = 3\n",
        "\n",
        "factorial = 1\n",
        "\n",
        "if a < 0:\n",
        "   print(\"Sorry, factorial does not exist for negative numbers\")\n",
        "elif a == 0:\n",
        "   print(\"The factorial of 0 is 1\")\n",
        "else:\n",
        "   for i in range(1,a + 1):\n",
        "       factorial = factorial*i\n",
        "   print(\"The factorial of\",a,\"is\",factorial)"
      ],
      "metadata": {
        "colab": {
          "base_uri": "https://localhost:8080/"
        },
        "id": "Sy9jQTkVFubR",
        "outputId": "db4ebaa4-1b7f-4f60-c1ee-ea3f00bdc328"
      },
      "execution_count": 21,
      "outputs": [
        {
          "output_type": "stream",
          "name": "stdout",
          "text": [
            "The factorial of 3 is 6\n"
          ]
        }
      ]
    },
    {
      "cell_type": "code",
      "source": [
        "# Factorial of 1 -> 1\n",
        "\n",
        "a = 1\n",
        "\n",
        "factorial = 1\n",
        "\n",
        "if a < 0:\n",
        "   print(\"Sorry, factorial does not exist for negative numbers\")\n",
        "elif a == 0:\n",
        "   print(\"The factorial of 0 is 1\")\n",
        "else:\n",
        "   for i in range(1,a + 1):\n",
        "       factorial = factorial*i\n",
        "   print(\"The factorial of\",a,\"is\",factorial)"
      ],
      "metadata": {
        "colab": {
          "base_uri": "https://localhost:8080/"
        },
        "id": "XEdOSHewGVd9",
        "outputId": "c27a555d-9fa1-4802-8f4a-4a9b514febfc"
      },
      "execution_count": 22,
      "outputs": [
        {
          "output_type": "stream",
          "name": "stdout",
          "text": [
            "The factorial of 1 is 1\n"
          ]
        }
      ]
    },
    {
      "cell_type": "code",
      "source": [
        "# Factorial of 0 -> 1\n",
        "\n",
        "a = 0\n",
        "\n",
        "factorial = 1\n",
        "\n",
        "if a < 0:\n",
        "   print(\"Sorry, factorial does not exist for negative numbers\")\n",
        "elif a == 0:\n",
        "   print(\"The factorial of 0 is 1\")\n",
        "else:\n",
        "   for i in range(1,a + 1):\n",
        "       factorial = factorial*i\n",
        "   print(\"The factorial of\",a,\"is\",factorial)"
      ],
      "metadata": {
        "colab": {
          "base_uri": "https://localhost:8080/"
        },
        "id": "UzTeqklIGg6y",
        "outputId": "43c92a45-f28b-4314-e7b4-5ce554940ede"
      },
      "execution_count": 23,
      "outputs": [
        {
          "output_type": "stream",
          "name": "stdout",
          "text": [
            "The factorial of 0 is 1\n"
          ]
        }
      ]
    },
    {
      "cell_type": "markdown",
      "source": [
        ""
      ],
      "metadata": {
        "id": "mraFng6IGn0V"
      }
    },
    {
      "cell_type": "markdown",
      "source": [
        ""
      ],
      "metadata": {
        "id": "ChV6dtVHGnw5"
      }
    },
    {
      "cell_type": "markdown",
      "source": [
        "Q5) Write a function that moves all elements of one type to the end of the list.\n",
        "Examples\n",
        "move_to_end([1, 3, 2, 4, 4, 1], 1) ➞ [3, 2, 4, 4, 1, 1]\n",
        "move_to_end([7, 8, 9, 1, 2, 3, 4], 9) ➞ [7, 8, 1, 2, 3, 4, 9]\n",
        "move_to_end([&quot;a&quot;, &quot;a&quot;, &quot;a&quot;, &quot;b&quot;], &quot;a&quot;) ➞ [&quot;b&quot;, &quot;a&quot;, &quot;a&quot;, &quot;a&quot;]"
      ],
      "metadata": {
        "id": "beoKMMnKGnX1"
      }
    },
    {
      "cell_type": "code",
      "source": [
        "lst = [7, 8, 9, 1, 2, 3, 4]\n",
        "lst.append(lst.pop(lst.index(9)))\n",
        "lst"
      ],
      "metadata": {
        "colab": {
          "base_uri": "https://localhost:8080/"
        },
        "id": "DOP9_6S5Gj4S",
        "outputId": "11f72ccc-6615-4f03-baa8-a12bbf6a8750"
      },
      "execution_count": 26,
      "outputs": [
        {
          "output_type": "execute_result",
          "data": {
            "text/plain": [
              "[7, 8, 1, 2, 3, 4, 9]"
            ]
          },
          "metadata": {},
          "execution_count": 26
        }
      ]
    },
    {
      "cell_type": "code",
      "source": [
        "lst = [\"a\", \"a\", \"a\", \"b\"]\n",
        "lst.reverse()\n",
        "lst"
      ],
      "metadata": {
        "colab": {
          "base_uri": "https://localhost:8080/"
        },
        "id": "eF7W1j7HHMKt",
        "outputId": "122b29ca-9691-4da8-8479-53dbc295b08e"
      },
      "execution_count": 28,
      "outputs": [
        {
          "output_type": "execute_result",
          "data": {
            "text/plain": [
              "['b', 'a', 'a', 'a']"
            ]
          },
          "metadata": {},
          "execution_count": 28
        }
      ]
    },
    {
      "cell_type": "code",
      "source": [
        ""
      ],
      "metadata": {
        "id": "MVUJkrSEILgC"
      },
      "execution_count": null,
      "outputs": []
    }
  ]
}